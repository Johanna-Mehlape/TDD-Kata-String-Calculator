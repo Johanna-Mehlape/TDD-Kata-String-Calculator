{
 "cells": [
  {
   "cell_type": "code",
   "execution_count": 13,
   "metadata": {},
   "outputs": [
    {
     "ename": "SyntaxError",
     "evalue": "invalid syntax (<ipython-input-13-84667424082c>, line 26)",
     "output_type": "error",
     "traceback": [
      "\u001b[0;36m  File \u001b[0;32m\"<ipython-input-13-84667424082c>\"\u001b[0;36m, line \u001b[0;32m26\u001b[0m\n\u001b[0;31m    def test_add_numbers_in_new_lines_between_numbers(self):\u001b[0m\n\u001b[0m      ^\u001b[0m\n\u001b[0;31mSyntaxError\u001b[0m\u001b[0;31m:\u001b[0m invalid syntax\n"
     ]
    }
   ],
   "source": [
    "import import_ipynb\n",
    "import unittest\n",
    "from unittest import TestCase\n",
    "from stringCalculator import* \n",
    "\n",
    "class Test_stringCalculator(unittest.TestCase):\n",
    "    def test_empty_string_returns_0(self):\n",
    "        add_sum = add(\"\")\n",
    "        self.assertEqual(0, add_sum)\n",
    "        \n",
    "    def test_return_input_as_output_for_single_numbers(self):\n",
    "        add_sum = add(\"3\")\n",
    "        self.assertEqual(3, add_sum)\n",
    "        \n",
    "        add_sum = add(\"6\")\n",
    "        self.assertEqual(6, add_sum)\n",
    "        \n",
    "    def test_add_multiple_numbers_separated_by_comma(self):\n",
    "        add_sum = add(\"3,7\")\n",
    "        self.assertEqual(add(10, add_sum)\n",
    "        \n",
    "    def test_add_numbers_in_new_lines_between_numbers(self):\n",
    "        add_sum = add(\"1\\n2,3\")\n",
    "        self.assertEqual(6, add_sum)\n",
    "        \n",
    "    def test_support_special_delimiters(self):\n",
    "        add_sum = add(\"//;\\n1;2\")\n",
    "        self.assertEqual(3, add_sum)\n",
    "                         \n",
    "    def test_add_negatives_will_raise_exception(self):\n",
    "        with self.assertRaises(Exception) as context:\n",
    "            add(\"-2\")\n",
    "        self.assertTrue('negative numbers are not allowed: -2' in str(context.exception))\n",
    "        \n",
    "if __name__ == '__main__':\n",
    "    unittest.main(argv=['first-arg-is-ignored'],exit=False)"
   ]
  },
  {
   "cell_type": "code",
   "execution_count": null,
   "metadata": {},
   "outputs": [],
   "source": []
  }
 ],
 "metadata": {
  "kernelspec": {
   "display_name": "Python 3",
   "language": "python",
   "name": "python3"
  },
  "language_info": {
   "codemirror_mode": {
    "name": "ipython",
    "version": 3
   },
   "file_extension": ".py",
   "mimetype": "text/x-python",
   "name": "python",
   "nbconvert_exporter": "python",
   "pygments_lexer": "ipython3",
   "version": "3.6.7"
  }
 },
 "nbformat": 4,
 "nbformat_minor": 2
}
