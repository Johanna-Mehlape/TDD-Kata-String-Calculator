{
 "cells": [
  {
   "cell_type": "code",
   "execution_count": 6,
   "metadata": {},
   "outputs": [],
   "source": [
    "import re\n",
    "\n",
    "DELIMITER = \",\"\n",
    "class stringCalculator(object):\n",
    "    def add(*numbers):\n",
    "        total = 0\n",
    "\n",
    "        for num in numbers:\n",
    "            if num != \"\":\n",
    "                num = normalise_special_delimiter(num)\n",
    "                num = normalise_delimiter(num)\n",
    "                total += sum(map(int, numbers.split(DELIMITER)))\n",
    "\n",
    "            return total\n",
    "\n",
    "    def normalise_delimiter(num):\n",
    "        return num.replace(\"\\n\", delimiter)\n",
    "\n",
    "    def normalise_special_delimiter(num):\n",
    "        if re.match(\"//.{1}\\n\", num):\n",
    "            delimiter = num[2]\n",
    "            num = num[4:]\n",
    "            num = num.replace(delimiter, DELIMITER)\n",
    "\n",
    "        return num"
   ]
  },
  {
   "cell_type": "code",
   "execution_count": null,
   "metadata": {},
   "outputs": [],
   "source": []
  }
 ],
 "metadata": {
  "kernelspec": {
   "display_name": "Python 3",
   "language": "python",
   "name": "python3"
  },
  "language_info": {
   "codemirror_mode": {
    "name": "ipython",
    "version": 3
   },
   "file_extension": ".py",
   "mimetype": "text/x-python",
   "name": "python",
   "nbconvert_exporter": "python",
   "pygments_lexer": "ipython3",
   "version": "3.6.7"
  }
 },
 "nbformat": 4,
 "nbformat_minor": 2
}
